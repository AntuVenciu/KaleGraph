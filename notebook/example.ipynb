{
 "cells": [
  {
   "cell_type": "markdown",
   "id": "431466b8",
   "metadata": {},
   "source": [
    "# EXAMPLE\n",
    "\n",
    "This notebook illustrates the functionality of the KaleGraph NN on the TrackML dataset. "
   ]
  }
 ],
 "metadata": {
  "kernelspec": {
   "display_name": "Python 3 (ipykernel)",
   "language": "python",
   "name": "python3"
  },
  "language_info": {
   "codemirror_mode": {
    "name": "ipython",
    "version": 3
   },
   "file_extension": ".py",
   "mimetype": "text/x-python",
   "name": "python",
   "nbconvert_exporter": "python",
   "pygments_lexer": "ipython3",
   "version": "3.11.6"
  }
 },
 "nbformat": 4,
 "nbformat_minor": 5
}
